{
 "cells": [
  {
   "cell_type": "code",
   "execution_count": 4,
   "metadata": {
    "collapsed": false
   },
   "outputs": [
    {
     "name": "stdout",
     "output_type": "stream",
     "text": [
      "64.164551937\n"
     ]
    },
    {
     "data": {
      "image/png": "[encoded data removed]",
      "text/plain": [
       "<matplotlib.figure.Figure at 0x7f2600ab8710>"
      ]
     },
     "metadata": {},
     "output_type": "display_data"
    }
   ],
   "source": [
    "import numpy as np\n",
    "import shapely.geometry as shg\n",
    "import matplotlib.pyplot as pyplot\n",
    "import copy as cp\n",
    "import scipy.spatial.distance as scd\n",
    "\n",
    "\n",
    "%matplotlib inline\n",
    "\n",
    "COLOR = {\n",
    "    True:  '#6699cc',\n",
    "    False: '#ffcc33'\n",
    "    }\n",
    "\n",
    "def v_color(ob):\n",
    "    return COLOR[ob.is_simple]\n",
    "\n",
    "def plot_coords(ax, ob):\n",
    "    for line in ob:\n",
    "        x, y = line.xy\n",
    "        ax.plot(x, y, 'o', color='#999999', zorder=1)\n",
    "\n",
    "def plot_bounds(ax, ob):\n",
    "    x, y = zip(*list((p.x, p.y) for p in ob.boundary))\n",
    "    ax.plot(x, y, 'o', color='#000000', zorder=1)\n",
    "\n",
    "def plot_lines(ax, ob):\n",
    "    for line in ob:\n",
    "        x, y = line.xy\n",
    "        ax.plot(x, y, color=v_color(ob), alpha=0.7, linewidth=3, solid_capstyle='round', zorder=2)\n",
    "\n",
    "#no of interations\n",
    "iterations = 200\n",
    "\n",
    "max = 20\n",
    "parent_id = 1\n",
    "inter_pts = 7\n",
    "prev_ang = 0\n",
    "r = np.linspace(.99,.26,inter_pts)\n",
    "max_exp = 2\n",
    "\n",
    "min_dist = .1\n",
    "\n",
    "#stack initial point\n",
    "\n",
    "segments = []\n",
    "segments_term = [np.array([0.,0])]\n",
    "\n",
    "#store parent-child info in dictionary\n",
    "\n",
    "parent_child = {}\n",
    "\n",
    "tree = shg.MultiLineString(segments)\n",
    "\n",
    "def branch(rot,r=1):\n",
    "    start_pt = np.array([1., 0])\n",
    "    R = r*np.array([\n",
    "                    [ np.cos(rot*np.pi/180), -np.sin(rot*np.pi/180)],\n",
    "                    [ np.sin(rot*np.pi/180), np.cos(rot*np.pi/180)]\n",
    "                ])\n",
    "    return np.dot(R,start_pt)\n",
    "\n",
    "\n",
    "for k in np.arange(iterations):\n",
    "    \n",
    "    #add next segment\n",
    "    x = np.max(3*np.random.random(),.4)\n",
    "    ang = (np.random.random()*(-2*max)+max) + prev_ang\n",
    "    new_segt = segments_term[parent_id-1], (segments_term[parent_id-1] + x*branch(ang))\n",
    "    delayed_tree = shg.MultiLineString(segments[:-1])\n",
    "\n",
    "    test_line = shg.LineString(new_segt)\n",
    "    dist = delayed_tree.distance(test_line)\n",
    "    \n",
    "    if dist > min_dist or k < 2:\n",
    "        prev_ang = ang\n",
    "        segments.append( shg.LineString(cp.copy(new_segt)) )\n",
    "        segments_term.append(new_segt[1])\n",
    "        tree = shg.MultiLineString(segments)\n",
    "        delayed_tree = shg.MultiLineString(segments[:-1])\n",
    "        parent_id=parent_id+1\n",
    "    else:\n",
    "        counter = 0\n",
    "        hammerTime = True\n",
    "        while counter < 20 and hammerTime:\n",
    "            x = np.max(3*np.random.random(),.4)\n",
    "            ang = (np.random.random()*(-2*max)+max) + prev_ang\n",
    "            new_segt = segments_term[parent_id-1], (segments_term[parent_id-1] + x*branch(ang))\n",
    "            test_line = shg.LineString(new_segt)\n",
    "            dist = delayed_tree.distance(test_line)\n",
    "            if dist > min_dist:\n",
    "                segments.append( shg.LineString(cp.copy(new_segt)) )\n",
    "                segments_term.append(new_segt[1])\n",
    "                #tree = shg.MultiLineString(segments)\n",
    "                parent_id=parent_id+1\n",
    "                hammerTime = False\n",
    "            counter += 1\n",
    "            \n",
    "\n",
    "tree = shg.MultiLineString(segments)\n",
    "print tree.length\n",
    "\n",
    "fig = pyplot.figure(1, dpi=200)\n",
    "\n",
    "ax = fig.add_subplot(111)\n",
    "#plot_coords(ax, tree)\n",
    "#plot_bounds(ax, tree)\n",
    "plot_lines(ax, tree)\n"
   ]
  },
  {
   "cell_type": "code",
   "execution_count": null,
   "metadata": {
    "collapsed": true
   },
   "outputs": [],
   "source": []
  }
 ],
 "metadata": {
  "kernelspec": {
   "display_name": "Python 2",
   "language": "python",
   "name": "python2"
  },
  "language_info": {
   "codemirror_mode": {
    "name": "ipython",
    "version": 2
   },
   "file_extension": ".py",
   "mimetype": "text/x-python",
   "name": "python",
   "nbconvert_exporter": "python",
   "pygments_lexer": "ipython2",
   "version": "2.7.6"
  }
 },
 "nbformat": 4,
 "nbformat_minor": 0
}
